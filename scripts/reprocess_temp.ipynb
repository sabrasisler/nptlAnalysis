{
 "cells": [
  {
   "cell_type": "code",
   "execution_count": 2,
   "metadata": {},
   "outputs": [],
   "source": [
    "import numpy as np\n",
    "import scipy.signal\n",
    "import scipy.io\n",
    "import matplotlib.pyplot as plt\n",
    "import seaborn as sns\n",
    "import glob\n",
    "\n",
    "from brpylib import NsxFile"
   ]
  },
  {
   "cell_type": "code",
   "execution_count": 25,
   "metadata": {},
   "outputs": [],
   "source": [
    "def read_ns5_file(ns5_filename, n_channels):\n",
    "    \"\"\"\n",
    "    Read NS5 file and extract raw voltage data.\n",
    "\n",
    "    Parameters\n",
    "    ----------\n",
    "    ns5_filename : str\n",
    "        Path to the NS5 file.\n",
    "    n_channels : int\n",
    "        Number of channels to extract.\n",
    "\n",
    "    Returns\n",
    "    -------\n",
    "    np.ndarray\n",
    "        Raw voltage data with shape (n_samples, n_channels).\n",
    "    \"\"\"\n",
    "    nsx_file = NsxFile(ns5_filename)\n",
    "\n",
    "    all_dat = nsx_file.getdata('all', 0, full_timestamps=True)  # electrode ids and start time s\n",
    "    # TODO add extra lines of code to get time stamps and return time stamp of each bin. Do this by changing the full_timestamps=True parameter. \n",
    "    # \n",
    "    nsx_file.close()\n",
    "    \n",
    "    raw_voltage = np.hstack(all_dat['data'])[:n_channels, :]  # data sometimes chunked across segments. extract only first n_channel channels    \n",
    "    return all_dat\n"
   ]
  },
  {
   "cell_type": "code",
   "execution_count": 26,
   "metadata": {},
   "outputs": [
    {
     "name": "stdout",
     "output_type": "stream",
     "text": [
      "\n",
      "Hub1-20250123-101213-001.ns5 opened\n",
      "\n",
      "Hub1-20250123-101213-001.ns5 closed\n"
     ]
    }
   ],
   "source": [
    "all_dat = read_ns5_file('/Users/sabrasisler/Desktop/NPTL/Data/t12.2025.01.23/raw/Hub1-20250123-101213-001.ns5', 256)"
   ]
  },
  {
   "cell_type": "code",
   "execution_count": 50,
   "metadata": {},
   "outputs": [
    {
     "name": "stdout",
     "output_type": "stream",
     "text": [
      "37\n"
     ]
    }
   ],
   "source": [
    "all_dat.keys()\n",
    "print(len(all_dat[\"data\"]))\n"
   ]
  }
 ],
 "metadata": {
  "kernelspec": {
   "display_name": ".venv",
   "language": "python",
   "name": "python3"
  },
  "language_info": {
   "codemirror_mode": {
    "name": "ipython",
    "version": 3
   },
   "file_extension": ".py",
   "mimetype": "text/x-python",
   "name": "python",
   "nbconvert_exporter": "python",
   "pygments_lexer": "ipython3",
   "version": "3.13.1"
  }
 },
 "nbformat": 4,
 "nbformat_minor": 2
}
